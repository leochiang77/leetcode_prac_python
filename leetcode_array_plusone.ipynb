{
 "cells": [
  {
   "cell_type": "markdown",
   "metadata": {},
   "source": [
    "### array -easy\n",
    "\n",
    "Given a non-negative integer represented as a non-empty array of digits, plus one to the integer.  \n",
    "\n",
    "You may assume the integer do not contain any leading zero, except the number 0 itself.\n",
    "\n",
    "The digits are stored such that the most significant digit is at the head of the list.\n",
    "\n",
    "備註:\n",
    "ex: 17-> [1,7]\n",
    "最高位放在第一個"
   ]
  },
  {
   "cell_type": "code",
   "execution_count": null,
   "metadata": {
    "collapsed": true
   },
   "outputs": [],
   "source": [
    "#每一位加完是否進位\n",
    "# digits.insert(0,1) => [1]+digits 效率改善很多\n",
    "class Solution(object):\n",
    "    def plusOne(self, digits):\n",
    "        \"\"\"\n",
    "        :type digits: List[int]\n",
    "        :rtype: List[int]\n",
    "        \"\"\"\n",
    "        for i in range(len(digits)-1,-1,-1):\n",
    "            a=(digits[i]+1)//10\n",
    "            digits[i]=(digits[i]+1)%10\n",
    "            if(a==0):\n",
    "                return digits\n",
    "            elif(a==1 and i==0):\n",
    "#                 digits.insert(0,1)\n",
    "                return [1]+digits"
   ]
  },
  {
   "cell_type": "code",
   "execution_count": null,
   "metadata": {
    "collapsed": true
   },
   "outputs": [],
   "source": [
    "##nicer solution\n",
    "\n",
    "#refer from woostundy stanl3y \n",
    "# all elements without last digits[:-1]\n",
    "#遞迴寫法\n",
    "def plusOne(digits):\n",
    "    \"\"\"\n",
    "    :type digits: List[int]\n",
    "    :rtype: List[int]\n",
    "    \"\"\"\n",
    "    if len(digits) == 0:\n",
    "        digits = [1]\n",
    "    elif digits[-1] == 9:\n",
    "        digits = plusOne(digits[:-1])\n",
    "        digits.extend([0])\n",
    "    else:\n",
    "        digits[-1] += 1\n",
    "    return digits\n",
    "\n",
    "\n",
    "\n",
    "#refer from stanl3y \n",
    "#digits = digits or [0]  當digits為false or null =>digits=[0]\n",
    "\n",
    "def plusOne(digits):\n",
    "    digits = digits or [0]\n",
    "    last = digits.pop()\n",
    "    \n",
    "    if last == 9:\n",
    "        return plusOne(digits) + [0]\n",
    "    else:\n",
    "        return digits + [last + 1]"
   ]
  },
  {
   "cell_type": "code",
   "execution_count": null,
   "metadata": {
    "collapsed": true
   },
   "outputs": [],
   "source": [
    "# refer from cheffyu\n",
    "#print([i for i in \"abc\"])\n",
    "\n",
    "\n",
    "def plusOne(self, digits):\n",
    "    \"\"\"\n",
    "    :type digits: List[int]\n",
    "    :rtype: List[int]\n",
    "    \"\"\"\n",
    "    nums = reduce(lambda x,y:x*10+y,digits)+1\n",
    "    return [int(i) for i in str(nums)]"
   ]
  }
 ],
 "metadata": {
  "anaconda-cloud": {},
  "kernelspec": {
   "display_name": "Python [default]",
   "language": "python",
   "name": "python3"
  },
  "language_info": {
   "codemirror_mode": {
    "name": "ipython",
    "version": 3
   },
   "file_extension": ".py",
   "mimetype": "text/x-python",
   "name": "python",
   "nbconvert_exporter": "python",
   "pygments_lexer": "ipython3",
   "version": "3.5.2"
  }
 },
 "nbformat": 4,
 "nbformat_minor": 2
}
